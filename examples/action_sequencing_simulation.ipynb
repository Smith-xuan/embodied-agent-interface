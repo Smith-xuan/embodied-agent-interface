{
 "cells": [
  {
   "cell_type": "code",
   "execution_count": null,
   "metadata": {},
   "outputs": [],
   "source": [
    "from igibson.envs.igibson_env import iGibsonEnv\n",
    "import behavior_eval\n",
    "import json\n",
    "import os"
   ]
  },
  {
   "cell_type": "code",
   "execution_count": null,
   "metadata": {},
   "outputs": [],
   "source": [
    "with open(behavior_eval.demo_name_path, 'r') as f:\n",
    "    demo_names = json.load(f)\n",
    "print(demo_names)"
   ]
  },
  {
   "cell_type": "code",
   "execution_count": 3,
   "metadata": {},
   "outputs": [],
   "source": [
    "demo_name=demo_names[0]\n",
    "with open(os.path.join(behavior_eval.action_seq_resources_path,'human_annotations',demo_name+'.json'), 'r') as f:\n",
    "    gt_actions = json.load(f)"
   ]
  },
  {
   "cell_type": "code",
   "execution_count": null,
   "metadata": {},
   "outputs": [],
   "source": [
    "from behavior_eval.transition_model.eval_env import EvalEnv\n",
    "env=EvalEnv(demo_name=demo_name,mode='gui_interactive')"
   ]
  },
  {
   "cell_type": "code",
   "execution_count": null,
   "metadata": {},
   "outputs": [],
   "source": [
    "# use this cell to explore the environment\n",
    "# wasd to move, tg to up and down, qe to rotate, mouse to look around\n",
    "while 1:\n",
    "    env.simulator.step()\n",
    "    env.simulator.sync()\n",
    "    env.simulator.viewer.update()\n",
    "# manually stop cell execution when done exploring"
   ]
  },
  {
   "cell_type": "code",
   "execution_count": null,
   "metadata": {},
   "outputs": [],
   "source": [
    "# execute this cell to see the results of magic actions\n",
    "for action in gt_actions:\n",
    "    env.apply_action(action['action'],action['object'])\n",
    "    env.simulator.step()\n",
    "    env.simulator.sync()\n",
    "    env.simulator.viewer.update()"
   ]
  }
 ],
 "metadata": {
  "kernelspec": {
   "display_name": "behavior",
   "language": "python",
   "name": "python3"
  },
  "language_info": {
   "codemirror_mode": {
    "name": "ipython",
    "version": 3
   },
   "file_extension": ".py",
   "mimetype": "text/x-python",
   "name": "python",
   "nbconvert_exporter": "python",
   "pygments_lexer": "ipython3",
   "version": "3.8.19"
  }
 },
 "nbformat": 4,
 "nbformat_minor": 2
}
